{
 "cells": [
  {
   "cell_type": "code",
   "execution_count": 7,
   "metadata": {},
   "outputs": [],
   "source": [
    "import re\n",
    "import requests\n",
    "import pandas as pd\n",
    "from urllib import parse\n",
    "from bs4 import BeautifulSoup\n",
    "from datetime import datetime\n",
    "import re\n",
    "\n",
    "import time"
   ]
  },
  {
   "cell_type": "code",
   "execution_count": 8,
   "metadata": {},
   "outputs": [],
   "source": [
    "url = 'http://news.daum.net/ranking/popular/'"
   ]
  },
  {
   "cell_type": "code",
   "execution_count": 9,
   "metadata": {},
   "outputs": [],
   "source": [
    "def get_ranking_news(type='popular'):\n",
    "    base_url = \"http://news.daum.net/ranking/\"\n",
    "    url = parse.urljoin(base_url, type)\n",
    "    res = requests.get(url)\n",
    "\n",
    "    if res.status_code == 200:\n",
    "        soup = BeautifulSoup(res.text)\n",
    "        news_list = soup.select('ul.list_news2 div.cont_thumb')\n",
    "        content_list = []\n",
    "\n",
    "        for news in news_list:\n",
    "            link = news.select_one('strong > a').get('href')\n",
    "            title = news.select_one('strong > a').text.strip()\n",
    "            newspaper = news.select_one('strong > span').text.strip()\n",
    "            content_list.append([link, title, newspaper])\n",
    "            \n",
    "            link_url = parse.urljoin(link)\n",
    "            link_res = requests.get(link_url)\n",
    "            cont = soup.select('div.news_view')\n",
    "            \n",
    "            contents = cont.select_one('')\n",
    "            \n",
    "\n",
    "        filename = '{}_{}_new_list.csv'.format(\n",
    "            type, datetime.now().strftime('%Y-%m-%d'))\n",
    "        df = pd.DataFrame(content_list, columns=['link', 'title', 'newspaper'])\n",
    "        df.to_csv(filename, index=False, encoding='UTF-8')\n",
    "    else:\n",
    "        raise Exception('sorry')"
   ]
  },
  {
   "cell_type": "code",
   "execution_count": 11,
   "metadata": {},
   "outputs": [
    {
     "name": "stderr",
     "output_type": "stream",
     "text": [
      "C:\\Users\\DY\\.conda\\envs\\wiset\\lib\\site-packages\\bs4\\__init__.py:181: UserWarning: No parser was explicitly specified, so I'm using the best available HTML parser for this system (\"lxml\"). This usually isn't a problem, but if you run this code on another system, or in a different virtual environment, it may use a different parser and behave differently.\n",
      "\n",
      "The code that caused this warning is on line 193 of the file C:\\Users\\DY\\.conda\\envs\\wiset\\lib\\runpy.py. To get rid of this warning, change code that looks like this:\n",
      "\n",
      " BeautifulSoup(YOUR_MARKUP})\n",
      "\n",
      "to this:\n",
      "\n",
      " BeautifulSoup(YOUR_MARKUP, \"lxml\")\n",
      "\n",
      "  markup_type=markup_type))\n"
     ]
    }
   ],
   "source": [
    "get_ranking_news('kkomkkom')"
   ]
  },
  {
   "cell_type": "code",
   "execution_count": 12,
   "metadata": {},
   "outputs": [],
   "source": [
    "df = pd.read_csv('kkomkkom_2021-01-17_new_list.csv', encoding='UTF-8')"
   ]
  },
  {
   "cell_type": "code",
   "execution_count": 13,
   "metadata": {},
   "outputs": [
    {
     "data": {
      "text/html": [
       "<div>\n",
       "<style scoped>\n",
       "    .dataframe tbody tr th:only-of-type {\n",
       "        vertical-align: middle;\n",
       "    }\n",
       "\n",
       "    .dataframe tbody tr th {\n",
       "        vertical-align: top;\n",
       "    }\n",
       "\n",
       "    .dataframe thead th {\n",
       "        text-align: right;\n",
       "    }\n",
       "</style>\n",
       "<table border=\"1\" class=\"dataframe\">\n",
       "  <thead>\n",
       "    <tr style=\"text-align: right;\">\n",
       "      <th></th>\n",
       "      <th>link</th>\n",
       "      <th>title</th>\n",
       "      <th>newspaper</th>\n",
       "    </tr>\n",
       "  </thead>\n",
       "  <tbody>\n",
       "    <tr>\n",
       "      <th>0</th>\n",
       "      <td>https://v.daum.net/v/20210117090202840</td>\n",
       "      <td>군사원조국서 '방산수출국' 우뚝.. \"첨단무기 多판다\" [이슈 속으로]</td>\n",
       "      <td>세계일보</td>\n",
       "    </tr>\n",
       "    <tr>\n",
       "      <th>1</th>\n",
       "      <td>https://v.daum.net/v/20210117070055928</td>\n",
       "      <td>[사건의 재구성]\"뭘 그런 일로 화내나\" 말에 살인자로 돌변한 옆집 남자</td>\n",
       "      <td>뉴스1</td>\n",
       "    </tr>\n",
       "    <tr>\n",
       "      <th>2</th>\n",
       "      <td>https://v.daum.net/v/20210117015101274</td>\n",
       "      <td>한국 군사력 세계 6위, 北 28위..\"유럽국 압도 이유는?\"</td>\n",
       "      <td>이데일리</td>\n",
       "    </tr>\n",
       "    <tr>\n",
       "      <th>3</th>\n",
       "      <td>https://v.daum.net/v/20210117050019138</td>\n",
       "      <td>정치권 '공매도' 압박에 흔들리는 금융당국..백기 드나</td>\n",
       "      <td>뉴시스</td>\n",
       "    </tr>\n",
       "    <tr>\n",
       "      <th>4</th>\n",
       "      <td>https://v.daum.net/v/20210117070017903</td>\n",
       "      <td>[취재후] 쓰레기 쌓인 집 삼남매..사연은 이랬다</td>\n",
       "      <td>KBS</td>\n",
       "    </tr>\n",
       "  </tbody>\n",
       "</table>\n",
       "</div>"
      ],
      "text/plain": [
       "                                     link  \\\n",
       "0  https://v.daum.net/v/20210117090202840   \n",
       "1  https://v.daum.net/v/20210117070055928   \n",
       "2  https://v.daum.net/v/20210117015101274   \n",
       "3  https://v.daum.net/v/20210117050019138   \n",
       "4  https://v.daum.net/v/20210117070017903   \n",
       "\n",
       "                                      title newspaper  \n",
       "0   군사원조국서 '방산수출국' 우뚝.. \"첨단무기 多판다\" [이슈 속으로]      세계일보  \n",
       "1  [사건의 재구성]\"뭘 그런 일로 화내나\" 말에 살인자로 돌변한 옆집 남자       뉴스1  \n",
       "2        한국 군사력 세계 6위, 北 28위..\"유럽국 압도 이유는?\"      이데일리  \n",
       "3            정치권 '공매도' 압박에 흔들리는 금융당국..백기 드나       뉴시스  \n",
       "4               [취재후] 쓰레기 쌓인 집 삼남매..사연은 이랬다       KBS  "
      ]
     },
     "execution_count": 13,
     "metadata": {},
     "output_type": "execute_result"
    }
   ],
   "source": [
    "df.head()"
   ]
  },
  {
   "cell_type": "code",
   "execution_count": 14,
   "metadata": {},
   "outputs": [
    {
     "name": "stderr",
     "output_type": "stream",
     "text": [
      "C:\\Users\\DY\\.conda\\envs\\wiset\\lib\\site-packages\\bs4\\__init__.py:181: UserWarning: No parser was explicitly specified, so I'm using the best available HTML parser for this system (\"lxml\"). This usually isn't a problem, but if you run this code on another system, or in a different virtual environment, it may use a different parser and behave differently.\n",
      "\n",
      "The code that caused this warning is on line 193 of the file C:\\Users\\DY\\.conda\\envs\\wiset\\lib\\runpy.py. To get rid of this warning, change code that looks like this:\n",
      "\n",
      " BeautifulSoup(YOUR_MARKUP})\n",
      "\n",
      "to this:\n",
      "\n",
      " BeautifulSoup(YOUR_MARKUP, \"lxml\")\n",
      "\n",
      "  markup_type=markup_type))\n"
     ]
    }
   ],
   "source": [
    "get_ranking_news('popular')"
   ]
  },
  {
   "cell_type": "code",
   "execution_count": 16,
   "metadata": {},
   "outputs": [],
   "source": [
    "df_p = pd.read_csv('popular_2021-01-17_new_list.csv', encoding='UTF-8')"
   ]
  },
  {
   "cell_type": "code",
   "execution_count": 17,
   "metadata": {},
   "outputs": [
    {
     "data": {
      "text/html": [
       "<div>\n",
       "<style scoped>\n",
       "    .dataframe tbody tr th:only-of-type {\n",
       "        vertical-align: middle;\n",
       "    }\n",
       "\n",
       "    .dataframe tbody tr th {\n",
       "        vertical-align: top;\n",
       "    }\n",
       "\n",
       "    .dataframe thead th {\n",
       "        text-align: right;\n",
       "    }\n",
       "</style>\n",
       "<table border=\"1\" class=\"dataframe\">\n",
       "  <thead>\n",
       "    <tr style=\"text-align: right;\">\n",
       "      <th></th>\n",
       "      <th>link</th>\n",
       "      <th>title</th>\n",
       "      <th>newspaper</th>\n",
       "    </tr>\n",
       "  </thead>\n",
       "  <tbody>\n",
       "    <tr>\n",
       "      <th>0</th>\n",
       "      <td>https://v.daum.net/v/20210117103254245</td>\n",
       "      <td>중학생이 SNS에 자랑한 '100돈 순금팔찌' 뺏은 동네 형들, 집유 3년</td>\n",
       "      <td>뉴스1</td>\n",
       "    </tr>\n",
       "    <tr>\n",
       "      <th>1</th>\n",
       "      <td>https://v.daum.net/v/20210117102810182</td>\n",
       "      <td>조국 딸 의사시험 합격에..의사들 '찬성 vs 반대'</td>\n",
       "      <td>뉴시스</td>\n",
       "    </tr>\n",
       "    <tr>\n",
       "      <th>2</th>\n",
       "      <td>https://v.daum.net/v/20210117114837513</td>\n",
       "      <td>오늘밤∼내일 오전 더 강한 눈 온다..수도권 최대 7cm 쌓일 듯</td>\n",
       "      <td>연합뉴스</td>\n",
       "    </tr>\n",
       "    <tr>\n",
       "      <th>3</th>\n",
       "      <td>https://v.daum.net/v/20210117041102821</td>\n",
       "      <td>\"어머니가 눈 감기 전 외삼촌들·이모와 연락 닿게 도와주세요\"</td>\n",
       "      <td>서울신문</td>\n",
       "    </tr>\n",
       "    <tr>\n",
       "      <th>4</th>\n",
       "      <td>https://v.daum.net/v/20210117092546153</td>\n",
       "      <td>국민의힘, 조국 딸 의사 국시 합격에..\"文정권, 공정 입에 담지 말라\"</td>\n",
       "      <td>아시아경제</td>\n",
       "    </tr>\n",
       "  </tbody>\n",
       "</table>\n",
       "</div>"
      ],
      "text/plain": [
       "                                     link  \\\n",
       "0  https://v.daum.net/v/20210117103254245   \n",
       "1  https://v.daum.net/v/20210117102810182   \n",
       "2  https://v.daum.net/v/20210117114837513   \n",
       "3  https://v.daum.net/v/20210117041102821   \n",
       "4  https://v.daum.net/v/20210117092546153   \n",
       "\n",
       "                                       title newspaper  \n",
       "0  중학생이 SNS에 자랑한 '100돈 순금팔찌' 뺏은 동네 형들, 집유 3년       뉴스1  \n",
       "1              조국 딸 의사시험 합격에..의사들 '찬성 vs 반대'       뉴시스  \n",
       "2       오늘밤∼내일 오전 더 강한 눈 온다..수도권 최대 7cm 쌓일 듯      연합뉴스  \n",
       "3         \"어머니가 눈 감기 전 외삼촌들·이모와 연락 닿게 도와주세요\"      서울신문  \n",
       "4   국민의힘, 조국 딸 의사 국시 합격에..\"文정권, 공정 입에 담지 말라\"     아시아경제  "
      ]
     },
     "execution_count": 17,
     "metadata": {},
     "output_type": "execute_result"
    }
   ],
   "source": [
    "df_p.head()"
   ]
  },
  {
   "cell_type": "code",
   "execution_count": null,
   "metadata": {},
   "outputs": [],
   "source": []
  }
 ],
 "metadata": {
  "kernelspec": {
   "display_name": "tf2.0",
   "language": "python",
   "name": "wiet"
  },
  "language_info": {
   "codemirror_mode": {
    "name": "ipython",
    "version": 3
   },
   "file_extension": ".py",
   "mimetype": "text/x-python",
   "name": "python",
   "nbconvert_exporter": "python",
   "pygments_lexer": "ipython3",
   "version": "3.7.9"
  }
 },
 "nbformat": 4,
 "nbformat_minor": 4
}
