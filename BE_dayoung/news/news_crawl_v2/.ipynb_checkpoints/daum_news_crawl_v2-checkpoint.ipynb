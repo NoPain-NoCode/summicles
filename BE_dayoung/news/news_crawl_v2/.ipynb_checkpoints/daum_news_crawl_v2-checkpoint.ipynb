{
 "cells": [
  {
   "cell_type": "code",
   "execution_count": 3,
   "metadata": {},
   "outputs": [],
   "source": [
    "# 본문 내용, 이미지 크롤링 구현"
   ]
  },
  {
   "cell_type": "code",
   "execution_count": 1,
   "metadata": {},
   "outputs": [],
   "source": [
    "import re\n",
    "import requests\n",
    "import pandas as pd\n",
    "from urllib import parse\n",
    "from bs4 import BeautifulSoup\n",
    "from datetime import datetime\n",
    "import re\n",
    "\n",
    "import time"
   ]
  },
  {
   "cell_type": "code",
   "execution_count": 2,
   "metadata": {},
   "outputs": [],
   "source": [
    "url = 'http://news.daum.net/ranking/popular/'"
   ]
  },
  {
   "cell_type": "code",
   "execution_count": null,
   "metadata": {},
   "outputs": [],
   "source": [
    "def get_ranking_news(type='popular'):\n",
    "    base_url = \"http://news.daum.net/ranking/\"\n",
    "    url = parse.urljoin(base_url, type)\n",
    "    res = requests.get(url)\n",
    "\n",
    "    if res.status_code == 200:\n",
    "        soup = BeautifulSoup(res.text)\n",
    "        news_list = soup.select('ul.list_news2 div.cont_thumb')\n",
    "        content_list = []\n",
    "\n",
    "        for news in news_list:\n",
    "            link = news.select_one('strong > a').get('href')\n",
    "            title = news.select_one('strong > a').text.strip()\n",
    "            newspaper = news.select_one('strong > span').text.strip()\n",
    "            content_list.append([link, title, newspaper])\n",
    "            \n",
    "            link_url = parse.urljoin(link)\n",
    "            link_res = requests.get(link_url)\n",
    "            cont = soup.select('div.news_view')\n",
    "            \n",
    "            contents = cont.select_one('')\n",
    "\n",
    "        filename = '{}_{}_new_list.csv'.format(\n",
    "            type, datetime.now().strftime('%Y-%m-%d'))\n",
    "        df = pd.DataFrame(content_list, columns=['link', 'title', 'newspaper'])\n",
    "        df.to_csv(filename, index=False, encoding='UTF-8')\n",
    "    else:\n",
    "        raise Exception('sorry')"
   ]
  }
 ],
 "metadata": {
  "kernelspec": {
   "display_name": "tf2.0",
   "language": "python",
   "name": "wiet"
  },
  "language_info": {
   "codemirror_mode": {
    "name": "ipython",
    "version": 3
   },
   "file_extension": ".py",
   "mimetype": "text/x-python",
   "name": "python",
   "nbconvert_exporter": "python",
   "pygments_lexer": "ipython3",
   "version": "3.7.9"
  }
 },
 "nbformat": 4,
 "nbformat_minor": 4
}
